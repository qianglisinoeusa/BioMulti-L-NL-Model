{
 "cells": [
  {
   "cell_type": "markdown",
   "metadata": {},
   "source": [
    "# Tutorial: How To Use FixaTons\n",
    "FixaTons is a collection of publicly available datasets of human fixations.\n",
    "It includes only those dataset which provide temporal information about scanpaths (and not only saliency or fixation maps)."
   ]
  },
  {
   "cell_type": "markdown",
   "metadata": {},
   "source": [
    "To use the functions provided with the dataset it is sufficient to import the library inside the code in this way"
   ]
  },
  {
   "cell_type": "code",
   "execution_count": 1,
   "metadata": {},
   "outputs": [],
   "source": [
    "import FixaTons"
   ]
  },
  {
   "cell_type": "markdown",
   "metadata": {},
   "source": [
    "This library includes function to assolve basically four different kind of operations:\n",
    "    - list informations about the dataset\n",
    "    - get data (in numpy matrix form)\n",
    "    - visualize data\n",
    "    - compute metrics (for saliency and scanpath similarity)"
   ]
  },
  {
   "cell_type": "markdown",
   "metadata": {},
   "source": [
    "## List informations about the dataset"
   ]
  },
  {
   "cell_type": "markdown",
   "metadata": {},
   "source": [
    "The collection comprehend different dataset, each of them with different pictures, subjects,etc.  Provided software allows to easily get this kind of information in form of list of strings."
   ]
  },
  {
   "cell_type": "code",
   "execution_count": 2,
   "metadata": {},
   "outputs": [
    {
     "data": {
      "text/plain": [
       "['KOOTSTRA', 'MIT1003', 'SIENA12', 'TORONTO']"
      ]
     },
     "execution_count": 2,
     "metadata": {},
     "output_type": "execute_result"
    }
   ],
   "source": [
    "FixaTons.info.datasets()"
   ]
  },
  {
   "cell_type": "code",
   "execution_count": 3,
   "metadata": {},
   "outputs": [
    {
     "data": {
      "text/plain": [
       "['building.jpg',\n",
       " 'desert.jpg',\n",
       " 'empty.jpg',\n",
       " 'land.jpg',\n",
       " 'missing_circle.jpg',\n",
       " 'moon.jpg',\n",
       " 'plants.jpg',\n",
       " 'randomness.jpg',\n",
       " 'relief.jpg',\n",
       " 'roof_of_flowers.jpg',\n",
       " 'sunset.jpg',\n",
       " 'wall_of_padlocks.jpg']"
      ]
     },
     "execution_count": 3,
     "metadata": {},
     "output_type": "execute_result"
    }
   ],
   "source": [
    "FixaTons.info.stimuli('SIENA12')"
   ]
  },
  {
   "cell_type": "code",
   "execution_count": 4,
   "metadata": {},
   "outputs": [
    {
     "data": {
      "text/plain": [
       "['AR_06102016',\n",
       " 'AR_10022017',\n",
       " 'AV_10022017',\n",
       " 'AZ_20102016',\n",
       " 'DB_10022017',\n",
       " 'DG_04112016',\n",
       " 'FG_20102016',\n",
       " 'FN_10022017',\n",
       " 'FR_04092016',\n",
       " 'FR_14092016',\n",
       " 'GG_10022017',\n",
       " 'GT_10022017',\n",
       " 'IT_10022017',\n",
       " 'KM_07102016',\n",
       " 'MA_08112016',\n",
       " 'MB_20102016',\n",
       " 'MH_20102016',\n",
       " 'SB_10022017',\n",
       " 'SU_20102016',\n",
       " 'TC_06102016',\n",
       " 'VL_20102016',\n",
       " 'VN_07102016',\n",
       " 'VU_10022017']"
      ]
     },
     "execution_count": 4,
     "metadata": {},
     "output_type": "execute_result"
    }
   ],
   "source": [
    "FixaTons.info.subjects('SIENA12', 'land.jpg')"
   ]
  },
  {
   "cell_type": "markdown",
   "metadata": {},
   "source": [
    "### Get data (in numpy matrix form)\n",
    "Some other functions allows to get specific data in form of numpy matrix. For example we can define some constant strings"
   ]
  },
  {
   "cell_type": "code",
   "execution_count": 5,
   "metadata": {},
   "outputs": [],
   "source": [
    "DATASET_NAME = 'SIENA12'\n",
    "STIMULUS_NAME = 'land.jpg'\n",
    "SUBJECT_ID = 'GT_10022017'"
   ]
  },
  {
   "cell_type": "markdown",
   "metadata": {},
   "source": [
    "and then get all possible data associated to them:"
   ]
  },
  {
   "cell_type": "code",
   "execution_count": 6,
   "metadata": {},
   "outputs": [],
   "source": [
    "stimulus_matrix = FixaTons.get.stimulus(DATASET_NAME, STIMULUS_NAME)\n",
    "saliency_map_matrix = FixaTons.get.saliency_map(DATASET_NAME, STIMULUS_NAME)\n",
    "fixation_map_matrix = FixaTons.get.fixation_map(DATASET_NAME, STIMULUS_NAME)"
   ]
  },
  {
   "cell_type": "markdown",
   "metadata": {},
   "source": [
    "Please note that, while stimulus is always a 3d-matrix (it includes channels of color, even in the case of black and white pictures)"
   ]
  },
  {
   "cell_type": "code",
   "execution_count": 7,
   "metadata": {},
   "outputs": [
    {
     "name": "stdout",
     "output_type": "stream",
     "text": [
      "Stimulus dims =  (768, 1024, 3)\n"
     ]
    }
   ],
   "source": [
    "print('Stimulus dims = ', stimulus_matrix.shape)"
   ]
  },
  {
   "cell_type": "markdown",
   "metadata": {},
   "source": [
    "saliency maps and fixation maps are always 2d-matrices"
   ]
  },
  {
   "cell_type": "code",
   "execution_count": 8,
   "metadata": {},
   "outputs": [
    {
     "name": "stdout",
     "output_type": "stream",
     "text": [
      "Saliency map dims = (768, 1024)\n",
      "Fixation map dims = (768, 1024)\n"
     ]
    }
   ],
   "source": [
    "print('Saliency map dims =', saliency_map_matrix.shape)\n",
    "print('Fixation map dims =', fixation_map_matrix.shape)"
   ]
  },
  {
   "cell_type": "markdown",
   "metadata": {},
   "source": [
    "It is also possible to get scanpaths (temporal sequance of fixations). In this case it is necessary to specify the id of the specif subject"
   ]
  },
  {
   "cell_type": "code",
   "execution_count": 9,
   "metadata": {},
   "outputs": [
    {
     "name": "stdout",
     "output_type": "stream",
     "text": [
      "[[5.040e+02 3.680e+02 4.000e-03 4.340e-01]\n",
      " [6.100e+02 2.430e+02 4.590e-01 5.440e-01]\n",
      " [6.340e+02 3.800e+01 6.280e-01 8.260e-01]\n",
      " [8.970e+02 2.300e+02 1.754e+00 1.879e+00]\n",
      " [8.200e+01 2.270e+02 2.012e+00 2.233e+00]\n",
      " [3.100e+01 2.140e+02 2.249e+00 2.458e+00]\n",
      " [3.300e+02 2.750e+02 2.547e+00 2.845e+00]\n",
      " [7.080e+02 3.160e+02 2.892e+00 3.335e+00]\n",
      " [3.070e+02 2.970e+02 3.428e+00 3.934e+00]\n",
      " [7.640e+02 3.900e+02 3.993e+00 4.338e+00]\n",
      " [9.010e+02 2.460e+02 4.364e+00 4.548e+00]\n",
      " [9.090e+02 2.460e+02 4.565e+00 4.941e+00]]\n"
     ]
    }
   ],
   "source": [
    "scanpath = FixaTons.get.scanpath(DATASET_NAME, STIMULUS_NAME, subject = SUBJECT_ID)\n",
    "print(scanpath)"
   ]
  },
  {
   "cell_type": "markdown",
   "metadata": {},
   "source": [
    "Scanpaths have different lengths that depend strongly on the time of exposition of the subject to the stimulus, which differs a lot between datasets. Consider that, humans perform in average 3/4 fixations per seconds. See main report for more details."
   ]
  },
  {
   "cell_type": "code",
   "execution_count": 10,
   "metadata": {},
   "outputs": [
    {
     "name": "stdout",
     "output_type": "stream",
     "text": [
      "This scanpath has 12 fixations.\n"
     ]
    }
   ],
   "source": [
    "print(\"This scanpath has {} fixations.\".format(len(scanpath)))"
   ]
  },
  {
   "cell_type": "markdown",
   "metadata": {},
   "source": [
    "It is also possible to get a random scanpath by leaving subject argument unspecified"
   ]
  },
  {
   "cell_type": "code",
   "execution_count": 11,
   "metadata": {},
   "outputs": [
    {
     "name": "stdout",
     "output_type": "stream",
     "text": [
      "This other scanpath has 18 fixations, instead\n"
     ]
    }
   ],
   "source": [
    "scanpath = FixaTons.get.scanpath(DATASET_NAME, STIMULUS_NAME)\n",
    "print(\"This other scanpath has {} fixations, instead\".format(len(scanpath)))"
   ]
  },
  {
   "cell_type": "markdown",
   "metadata": {},
   "source": [
    "### Visualize data"
   ]
  },
  {
   "cell_type": "markdown",
   "metadata": {},
   "source": [
    "Two functions are also include to an easy visualization of the data. In particular, one of them allows to visualize maps alongside the stimulus"
   ]
  },
  {
   "cell_type": "code",
   "execution_count": 12,
   "metadata": {},
   "outputs": [],
   "source": [
    "FixaTons.show.map(DATASET_NAME, STIMULUS_NAME, \n",
    "                  showSalMap = True, showFixMap = False,\n",
    "                  wait_time=5000, plotMaxDim = 1024)"
   ]
  },
  {
   "cell_type": "markdown",
   "metadata": {},
   "source": [
    "This functions uses cv2 standard library to visualize a specified stimulus.  By default, stimulus is shown with itssaliency map aside.  It is possible to deactivate such option by setting the additional argument showSalMap=False.  It is possible to show also (or alternatively) the fixation map by setting the additional argument showFixMap=True.\n",
    "\n",
    "Depending on the monitor  or  the  image  dimensions,  it  could  be  convenient  to  resize  the  images  before  to  plot  them.   In  such  a  case,  user  could  indicate  in  the  additional  argument plotMaxDim=1024 to set, for example, the maximum dimension to 1024.\n",
    "\n",
    "By default, images are not resized. By default, plot lasts only five seconds. This time can be modified passing a different time in the argument wait_time. If 0 is passed, plot lasts until a key is pressed.\n",
    "\n",
    "To observe a single scanpath, the following function"
   ]
  },
  {
   "cell_type": "code",
   "execution_count": 13,
   "metadata": {},
   "outputs": [],
   "source": [
    "FixaTons.show.scanpath(DATASET_NAME, STIMULUS_NAME, subject= SUBJECT_ID, \n",
    "                       animation = True, wait_time = 0, \n",
    "                       putLines = True, putNumbers = True, \n",
    "                       plotMaxDim = 1024)"
   ]
  },
  {
   "cell_type": "markdown",
   "metadata": {},
   "source": [
    "uses the cv2 standard library.  If no subject is specified, the functions randomly select a scanpath to show. \n",
    "\n",
    "By default, fixations are plotted as an animation. It is possible to deactivate this option by setting the argument animation=False. Also, ordinal numbers are plotted on fixations and lines between successive fixations are drawn.\n",
    "\n",
    "Depending on the monitor or the image dimensions, it could be convenient to resizethe images before to plot them.  In such a case, user could indicate in the additionalargument plotMaxDim=1024 to set, for example, the maximum dimension to 1024.  Bydefault, images are not resized."
   ]
  },
  {
   "cell_type": "markdown",
   "metadata": {},
   "source": [
    "### Compute metrics"
   ]
  },
  {
   "cell_type": "markdown",
   "metadata": {},
   "source": [
    "An implementation of the most common metrics to compute saliency maps similarity andscanpaths similarity is included in the software provided with FixaTons."
   ]
  },
  {
   "cell_type": "markdown",
   "metadata": {},
   "source": [
    "Saliency Map similarities:\n",
    "\n",
    "    –  FixaTons.metrics.KLdiv(saliencyMap, fixationMap)\n",
    "    –  FixaTons.metrics.AUCJudd(saliencyMap, fixationMap, jitter = True,toPlot = False)\n",
    "    –  FixaTons.metrics.NSS(saliencyMap, fixationMap)"
   ]
  },
  {
   "cell_type": "markdown",
   "metadata": {},
   "source": [
    "Scanpaths similarities:\n",
    "\n",
    "    –  FixaTons.metrics.euclideandistance(humanscanpath, simulatedscanpath)\n",
    "    –  FixaTons.metrics.stringeditdistance(stimulus, humanscanpath, sim-ulatedscanpath, n = 5, substitutioncost=1)\n",
    "    –  FixaTons.metrics.timedelayembeddingdistance( humanscanpath, sim-ulatedscanpath, k = 3, distancemode = ’Mean’)\n",
    "    –  FixaTons.metrics.scaledtimedelayembeddingdistance( humanscanpath,simulatedscanpath, image, toPlot = False))"
   ]
  },
  {
   "cell_type": "markdown",
   "metadata": {},
   "source": [
    "More details about this metrics are given in the main report."
   ]
  },
  {
   "cell_type": "code",
   "execution_count": null,
   "metadata": {},
   "outputs": [],
   "source": []
  }
 ],
 "metadata": {
  "kernelspec": {
   "display_name": "PyCharm (geymol_crowdsourcing_dataanalysis)",
   "language": "python",
   "name": "pycharm-f5c60a76"
  },
  "language_info": {
   "codemirror_mode": {
    "name": "ipython",
    "version": 3
   },
   "file_extension": ".py",
   "mimetype": "text/x-python",
   "name": "python",
   "nbconvert_exporter": "python",
   "pygments_lexer": "ipython3",
   "version": "3.5.4"
  }
 },
 "nbformat": 4,
 "nbformat_minor": 2
}
